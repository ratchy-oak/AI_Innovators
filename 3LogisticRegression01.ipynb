{
 "cells": [
  {
   "cell_type": "markdown",
   "id": "251cab4f",
   "metadata": {},
   "source": [
    "<div style=\"background-color: #4CAF50; color: white; padding: 10px; border-radius: 5px; display: flex; align-items: center;\">\n",
    "    <h1 style=\"margin: 0 auto; font-size: 30px; font-weight: bold; font-family: Helvetica\">การวิเคราะห์ข้อมูลถดถอยลอจิสติก (Logistic Regression)</h1>\n",
    "</div>"
   ]
  },
  {
   "cell_type": "markdown",
   "id": "51a02734",
   "metadata": {},
   "source": [
    "<h1 style=\"font-size: 25px; font-weight: bold; font-family: Helvetica\">เครื่องมือที่จะใช้ใน Lab นี้:</h1> "
   ]
  },
  {
   "cell_type": "code",
   "execution_count": 1,
   "id": "4e45dd28",
   "metadata": {
    "pycharm": {
     "name": "#%%\n"
    }
   },
   "outputs": [],
   "source": [
    "# นำเข้าไลบรารี numpy โดยตั้งชื่อว่า np\n",
    "import numpy as np\n",
    "# นำเข้าไลบรารี matplotlib โดยตั้งชื่อว่า plt\n",
    "import matplotlib.pyplot as plt"
   ]
  },
  {
   "cell_type": "markdown",
   "id": "21629c90",
   "metadata": {},
   "source": [
    "<h1 style=\"font-size: 25px; font-weight: bold; font-family: Helvetica\">โจทย์ปัญหา:</h1>\n",
    "\n",
    "\n",
    "สมมติว่าเราต้องการโมเดลที่สามารถทำนาย Y โดยมีข้อมูลฟีเจอร์ X ที่กำหนดให้ 2 ข้อมูล ดังนี้:\n",
    "\n",
    "<div align=\"center\">\n",
    "    <table>\n",
    "        <tr>\n",
    "            <th>X1</th>\n",
    "            <th>X2</th>\n",
    "            <th>Y</th>\n",
    "        </tr>\n",
    "        <tr>\n",
    "            <td>2.5</td>\n",
    "            <td>1.3</td>\n",
    "            <td>0</td>\n",
    "        </tr>\n",
    "        <tr>\n",
    "            <td>1.7</td>\n",
    "            <td>2.8</td>\n",
    "            <td>1</td>\n",
    "        </tr>\n",
    "        <tr>\n",
    "            <td>3.1</td>\n",
    "            <td>1.0</td>\n",
    "            <td>0</td>\n",
    "        </tr>\n",
    "        <tr>\n",
    "            <td>2.0</td>\n",
    "            <td>3.2</td>\n",
    "            <td>1</td>\n",
    "        </tr>\n",
    "        <tr>\n",
    "            <td>1.6</td>\n",
    "            <td>2.0</td>\n",
    "            <td>0</td>\n",
    "        </tr>\n",
    "        <tr>\n",
    "            <td>3.3</td>\n",
    "            <td>1.5</td>\n",
    "            <td>1</td>\n",
    "        </tr>\n",
    "        <tr>\n",
    "            <td>2.8</td>\n",
    "            <td>2.4</td>\n",
    "            <td>0</td>\n",
    "        </tr>\n",
    "        <tr>\n",
    "            <td>1.2</td>\n",
    "            <td>2.5</td>\n",
    "            <td>1</td>\n",
    "        </tr>\n",
    "        <tr>\n",
    "            <td>3.0</td>\n",
    "            <td>1.9</td>\n",
    "            <td>0</td>\n",
    "        </tr>\n",
    "        <tr>\n",
    "            <td>2.3</td>\n",
    "            <td>3.0</td>\n",
    "            <td>1</td>\n",
    "        </tr>\n",
    "    </table>\n",
    "</div>\n"
   ]
  },
  {
   "cell_type": "markdown",
   "metadata": {
    "pycharm": {
     "name": "#%% md\n"
    }
   },
   "source": [
    "<h1 style=\"font-size: 25px; font-weight: bold; font-family: Helvetica\">1. สำรวจและวิเคราะห์ข้อมูลเบื้องต้น (Exploratory Data Analysis: EDA)</h1>"
   ]
  },
  {
   "cell_type": "markdown",
   "id": "32b8f6f6",
   "metadata": {},
   "source": [
    "<h1 style=\"font-size: 18px;\">1.1 สร้างตัวแปรเก็บข้อมูล</h1>\n"
   ]
  },
  {
   "cell_type": "code",
   "execution_count": 3,
   "id": "279ad867",
   "metadata": {
    "pycharm": {
     "name": "#%%\n"
    },
    "tags": []
   },
   "outputs": [],
   "source": [
    "# สร้างตัวแปรที่ชื่อว่า X_train เพื่อเก็บข้อมูล X1 และ X2\n",
    "X_train = np.array([\n",
    "    [2.5, 1.3],\n",
    "    [1.7, 2.8],\n",
    "    [3.1, 1.0],\n",
    "    [2.0, 3.2],\n",
    "    [1.6, 2.0],\n",
    "    [3.3, 1.5],\n",
    "    [2.8, 2.4],\n",
    "    [1.2, 2.5],\n",
    "    [3.0, 1.9],\n",
    "    [2.3, 3.0]\n",
    "])\n",
    "\n",
    "# สร้างตัวแปรที่ชื่อว่า y_train เพื่อเก็บข้อมูล Y\n",
    "y_train = np.array([0, 1, 0, 1, 0, 1, 0, 1, 0, 1])   "
   ]
  },
  {
   "cell_type": "markdown",
   "id": "7fa14f9c",
   "metadata": {},
   "source": [
    "<h1 style=\"font-size: 25px; font-weight: bold; font-family: Helvetica\">2. หลักการทำงานของ Logistic Regression Model</h1>"
   ]
  },
  {
   "cell_type": "markdown",
   "id": "0fb0e214",
   "metadata": {},
   "source": [
    "Logistic Regression คือการวิเคราะห์ทางสถิติที่ใช้ในการทำนายผลของตัวแปรตาม (dependent variable) ที่เป็นทวิภาค (binary) จากตัวแปรต้นหนึ่งตัวหรือมากกว่า ที่เป็นตัวแปรต่อเนื่องหรือตัวแปรประเภท (categorical variable) โดยตัวแปรตามที่เป็นทวิภาคนั้น มีค่าที่เป็นไปได้แค่ 2 ค่า เช่น 0 และ 1 \n",
    "\n",
    "หลักการของ Logistic Regression คือการสร้างแบบจำลองที่สามารถทำนายความน่าจะเป็น (Probability) ของเหตุการณ์หนึ่ง ๆ โดยใช้ฟังก์ชันลอจิสติก\n",
    "(Logistic Function)\n",
    "\n",
    "หรือที่เรียกว่า Sigmoid Function ซึ่งมีสมการดังนี้:\n",
    "\n",
    "<div style=\"font-size: 30px;\">\n",
    "\n",
    "$$ P(Y=1|X) = \\frac{1}{1 + e^{-z}} $$\n",
    "\n",
    "</div>\n",
    "\n",
    "โดยที่:\n",
    "\n",
    "- $P(Y=1|X)$: ความน่าจะเป็นที่ผลลัพธ์ $Y$ จะมีค่าเป็น 1 เมื่อรู้ค่าของตัวแปรอิสระ $X$\n",
    "- $X$: ตัวแปรอิสระ (independent variable) หรือกลุ่มของตัวแปรอิสระที่ใช้ในการพยากรณ์ผลลัพธ์ $Y$ ซึ่งอาจประกอบด้วยตัวแปรหลายตัว เช่น $X_1, X_2, \\ldots, X_n$\n",
    "- $z$: ค่ารวมเชิงเส้น (linear combination) ของตัวแปรอิสระ $X$ และค่าสัมประสิทธิ์ $\\beta$ ของโมเดล ซึ่งคำนวณได้จากสมการ:\n",
    "\n",
    "  <div style=\"font-size: 30px;\">\n",
    "\n",
    "  $$\n",
    "  z = \\beta_0 + \\beta_1 X_1 + \\beta_2 X_2 + \\ldots + \\beta_n X_n\n",
    "  $$\n",
    "\n",
    "  </div>\n",
    "\n",
    "- $\\beta_0$: ค่าคงที่ (intercept) ของสมการ เป็นจุดที่เส้นโค้งตัดกับแกน $y$ เมื่อค่าของตัวแปรอิสระทั้งหมดเป็นศูนย์\n",
    "- $\\beta_1, \\beta_2, \\ldots, \\beta_n $: ค่าสัมประสิทธิ์ (coefficients) ของตัวแปรอิสระ $X_1, X_2, \\ldots, X_n$ ที่ระบุถึงผลกระทบของแต่ละตัวแปรอิสระต่อผลลัพธ์ $Y$\n",
    "- $e$: ค่าคงที่ทางคณิตศาสตร์ ซึ่งมีค่าเท่ากับประมาณ 2.71828 (ฐานของลอการิทึมธรรมชาติ)"
   ]
  },
  {
   "cell_type": "markdown",
   "id": "2a469b7e",
   "metadata": {},
   "source": [
    "<div style=\"text-align: center;\">\n",
    "    <img src=\"https://miro.medium.com/max/970/1*Xu7B5y9gp0iL5ooBj7LtWw.png\" alt=\"Logistic\" width=\"600\" height=\"400\"/>\n",
    "    <br>\n",
    "    <span style=\"font-size: small;\">ฟังก์ชัน Sigmoid </span>\n",
    "</div>\n",
    "\n",
    "ดังนั้น สมการของ Logistic Regression สามารถเขียนได้ดังนี้:\n",
    "\n",
    "<div style=\"font-size: 24px;\">\n",
    "\n",
    "$$ P(Y=1|X) = \\frac{1}{1 + e^{-(\\beta_0 + \\beta_1 X_1 + \\beta_2 X_2 + \\ldots + \\beta_p X_p)}} $$\n",
    "\n",
    "</div>\n",
    "\n",
    "เราจะใช้ความน่าจะเป็นที่ได้จากโมเดลเพื่อจำแนกประเภท โดยกำหนดขีดแบ่ง (Decision Boundary) ที่ใช้เพื่อตัดสินใจว่าควรจะจัดแต่ละตัวอย่างเข้าไปในคลาสไหน\n",
    "\n",
    "สามารถเขียนเป็นสมการได้ดังนี้:\n",
    "\n",
    "<div style=\"font-size: 24px;\">\n",
    "\n",
    "$$ P \\geq 0.5 \\Rightarrow \\text{class} = 1 $$\n",
    "\n",
    "$$ P < 0.5 \\Rightarrow \\text{class} = 0 $$\n",
    "\n",
    "</div>"
   ]
  },
  {
   "cell_type": "markdown",
   "id": "ee6c1a8b",
   "metadata": {},
   "source": [
    "<h1 style=\"font-size: 18px;\">2.1 สร้างโมเดลลอจิสติกสมมติ และพลอตกราฟแสดงผลลัพธ์</h1>"
   ]
  },
  {
   "cell_type": "code",
   "execution_count": 6,
   "id": "ae946c43",
   "metadata": {},
   "outputs": [
    {
     "name": "stdout",
     "output_type": "stream",
     "text": [
      "Predicted Probability: [0.6165665  0.07677457 0.81137968 0.05625293 0.20165219 0.70827069\n",
      " 0.28740927 0.07712972 0.50499983 0.09509101]\n",
      "Predicted classes by decision boundary: [0 0 1 0 0 1 0 0 0 0]\n"
     ]
    }
   ],
   "source": [
    "# ฟังก์ชันซิกมอยด์\n",
    "def sigmoid(z):\n",
    "    return 1 / (1 + np.exp(-z))\n",
    "\n",
    "# ฟังก์ชันทำนาย\n",
    "def predict(X, weights, bias):\n",
    "    linear_combination = np.dot(X, weights) + bias\n",
    "    return sigmoid(linear_combination)\n",
    "\n",
    "# กำหนดพารามิเตอร์สมมติ\n",
    "weights = np.array([0.89, -1.5])\n",
    "bias = 0.2\n",
    "\n",
    "# ทำนายค่าด้วยพารามิเตอร์สมมติ\n",
    "y_pred = predict(X_train, weights, bias)\n",
    "\n",
    "print(f\"Predicted Probability: {y_pred}\")\n",
    "\n",
    "# สร้างขอบเขตการตัดสินใจ (Decision Boundary)\n",
    "decision_boundary = 0.65\n",
    "y_pred_class = np.where(y_pred >= decision_boundary, 1, 0)\n",
    "\n",
    "print(f\"Predicted classes by decision boundary: {y_pred_class}\")"
   ]
  },
  {
   "cell_type": "code",
   "execution_count": 7,
   "id": "9bc0e9c0",
   "metadata": {},
   "outputs": [
    {
     "data": {
      "image/png": "[encoded data removed]",
      "text/plain": [
       "<Figure size 640x480 with 1 Axes>"
      ]
     },
     "metadata": {},
     "output_type": "display_data"
    }
   ],
   "source": [
    "# กำหนดสีสำหรับการทำนายถูกและผิด\n",
    "colors = ['green' if y_pred_class[i] == y_train[i] else 'red' for i in range(len(y_pred))]\n",
    "\n",
    "# สร้างกราฟเปรียบเทียบค่า Predicted Probability และ Train Labels\n",
    "plt.scatter(range(len(y_pred)), y_pred, label='Predicted Probability', color=colors, marker='o')\n",
    "plt.scatter(range(len(y_train)), y_train, label='Train Labels', color='blue', marker='x')\n",
    "\n",
    "# แสดงเส้นขอบเขตการตัดสินใจที่ค่าใหม่ (0.66)\n",
    "plt.axhline(y=decision_boundary, color='r', linestyle='--', label=f'Decision Boundary ({decision_boundary})')\n",
    "\n",
    "# ตั้งชื่อและแสดงกราฟ\n",
    "plt.title('Predicted Probabilities vs Train Labels with Classification Result')\n",
    "plt.xlabel('Sample Index')\n",
    "plt.ylabel('Value')\n",
    "\n",
    "# แสดงคำอธิบาย\n",
    "plt.legend(loc= 'lower right')\n",
    "\n",
    "# แสดงกราฟ\n",
    "plt.show()"
   ]
  },
  {
   "cell_type": "markdown",
   "id": "4b16ccac",
   "metadata": {},
   "source": [
    "<h1 style=\"font-size: 18px;\">2.2 คำนวณค่า Cost ที่เกิดขึ้น</h1>"
   ]
  },
  {
   "cell_type": "markdown",
   "id": "24dcc527",
   "metadata": {},
   "source": [
    "<h1 style=\"font-size: 18px;\">ในที่นี้จะใช้ Binary Crossentropy Loss เป็นค่า Cost ที่ใช้วัดความแม่นยำของ Logistic Regression Model นี้</h1>\n",
    "<h1 style=\"font-size: 18px;\">Binary Crossentropy Loss สามารถคำนวณได้ดังนี้:</h1>\n",
    "\n",
    "<div style=\"font-size: 24px;\">\n",
    "\n",
    "$$ J(w,b) = - \\frac{1}{m} \\sum_{i=1}^{m} [y_i \\log(\\hat{y}_i) + (1 - y_i) \\log(1 - \\hat{y}_i)] $$\n",
    "\n",
    "</div>\n",
    "\n",
    "โดยที่:\n",
    "\n",
    "- $J(w,b)$ คือค่า Cost โดยในที่นี้เราใช้เป็น Binary Crossentropy Loss\n",
    "- $m$ คือจำนวนข้อมูล\n",
    "- $y_i$ คือค่าจริง (actual) สำหรับข้อมูลลำดับที่ $i$\n",
    "- $\\hat{y}_i$ คือค่าที่ทำนาย (predict) สำหรับข้อมูลลำดับที่ $i$\n"
   ]
  },
  {
   "cell_type": "code",
   "execution_count": 8,
   "id": "28c1dd5a",
   "metadata": {},
   "outputs": [
    {
     "name": "stdout",
     "output_type": "stream",
     "text": [
      "True classes: [0 1 0 1 0 1 0 1 0 1]\n",
      "Predicted Probability: [0.6165665  0.07677457 0.81137968 0.05625293 0.20165219 0.70827069\n",
      " 0.28740927 0.07712972 0.50499983 0.09509101]\n",
      "Loss: 1.4598759743248129\n"
     ]
    }
   ],
   "source": [
    "# ฟังก์ชันคำนวณค่าเสียหาย (Binary Cross Entropy Loss)\n",
    "def compute_loss(y_true, y_pred):\n",
    "    m = len(y_true)\n",
    "    return -1/m * np.sum(y_true * np.log(y_pred) + (1-y_true) * np.log(1-y_pred))\n",
    "\n",
    "# คำนวณค่าเสียหาย\n",
    "loss = compute_loss(y_train, y_pred)\n",
    "\n",
    "# พิมพ์ผลลัพธ์\n",
    "print(f\"True classes: {y_train}\")\n",
    "print(f\"Predicted Probability: {y_pred}\")\n",
    "print(f\"Loss: {loss}\")"
   ]
  },
  {
   "cell_type": "markdown",
   "id": "466469f5",
   "metadata": {},
   "source": [
    "<h1 style=\"font-size: 18px;\">2.3 ทำ Gradient Descent จากค่า Cost ที่หาได้จากสมการนี้</h1>\n",
    "\n",
    "<div style=\"font-size: 24px;\">\n",
    "\n",
    "$$ J(w,b) = - \\frac{1}{m} \\sum_{i=1}^{m} [y_i \\log(\\hat{y}_i) + (1 - y_i) \\log(1 - \\hat{y}_i)] $$\n",
    "\n",
    "</div>\n",
    "\n",
    "การทำ Gradient Descent คือการที่เราต้องการปรับปรุงค่า $w_1$, $w_2$, ... , $w_n$ และ $b$ ให้เหมาะสมกับชุดข้อมูลมากที่สุด สามารถทำได้ด้วยการหา gradient ของฟังก์ชัน Cost $J(w,b)$ (ในที่นี้เราใช้ Binary Crossentropy Loss) เทียบกับ $w_1$, $w_2$, ... , $w_n$ และ $b$ จากนั้นก็อัพเดท $w_1$, $w_2$, ... , $w_n$ และ $b$ ใหม่ หรือก็คือเราจะทำซ้ำจนกว่าจะลู่เข้า:\n",
    "\n",
    "<div style=\"font-size: 24px;\">\n",
    "\n",
    "$$\n",
    "\\begin{align*}\n",
    "w_1 &:= w_1 - \\alpha \\frac{\\partial J(w_1,b)}{\\partial w_1} \\\\\n",
    "w_2 &:= w_2 - \\alpha \\frac{\\partial J(w_2,b)}{\\partial w_2} \\\\\n",
    "\\vdots \\\\\n",
    "w_n &:= w_n - \\alpha \\frac{\\partial J(w_n,b)}{\\partial w_n} \\\\\n",
    "b &:= b - \\alpha \\frac{\\partial J(w,b)}{\\partial b} \\\\\n",
    "\\end{align*}\n",
    "$$\n",
    "\n",
    "</div>\n",
    "\n",
    "โดยที่:\n",
    "- $w_1$, $w_2$, ... , $w_n$ คือ พารามิเตอร์ weight\n",
    "- $b$ คือ พารามิเตอร์ bias \n",
    "- $\\alpha$ คือ อัตราการเรียนรู้ (learning rate) ที่ควบคุมขนาดของการอัพเดทในแต่ละรอบการทำงาน\n",
    "- $\\frac{\\partial J(w,b)}{\\partial w}$ และ $\\frac{\\partial J(w,b)}{\\partial b}$ คือ gradient ของฟังก์ชัน Cost เทียบกับ $w$ และ $b$ ตามลำดับ ซึ่งสามารถคำนวณได้ดังนี้:\n",
    "\n",
    "<div style=\"font-size: 24px;\">\n",
    "\n",
    "$$\n",
    "\\frac{\\partial J(w_1, w_2, \\dots, w_n, b)}{\\partial w_j} = \\frac{\\partial}{\\partial w_j} \\left( - \\frac{1}{m} \\sum_{i=1}^{m} [y_i \\log(\\hat{y}_i) + (1 - y_i) \\log(1 - \\hat{y}_i)] \\right)\n",
    "$$\n",
    "\n",
    "$$\n",
    "\\frac{\\partial}{\\partial w_j} \\left[ y_i \\log(\\hat{y}_i) + (1 - y_i) \\log(1 - \\hat{y}_i) \\right] = \\left( \\hat{y}_i - y_i \\right) x_{ij}\n",
    "$$\n",
    "\n",
    "$$\n",
    "\\textcolor{yellow}{\n",
    "\\frac{\\partial J(w_1, w_2, \\dots, w_n, b)}{\\partial w_j} = \\frac{1}{m} \\sum_{i=1}^{m} (\\hat{y}_i - y_i)x_{ij}, \\quad \\text{for } j = 1, 2, \\dots, n}\n",
    "$$\n",
    "\n",
    "</div>\n",
    "\n",
    "-----------------------------------------------------------------------------------------------------\n",
    "\n",
    "<div style=\"font-size: 24px;\">\n",
    "\n",
    "$$\n",
    "\\frac{\\partial J(w_1, w_2, \\dots, w_n, b)}{\\partial b} = \\frac{\\partial}{\\partial b} \\left( - \\frac{1}{m} \\sum_{i=1}^{m} [y_i \\log(\\hat{y}_i) + (1 - y_i) \\log(1 - \\hat{y}_i)] \\right)\n",
    "$$\n",
    "\n",
    "$$\n",
    "\\frac{\\partial}{\\partial b} \\left[ y_i \\log(\\hat{y}_i) + (1 - y_i) \\log(1 - \\hat{y}_i) \\right] = \\left( \\hat{y}_i - y_i \\right)\n",
    "$$\n",
    "\n",
    "$$\n",
    "\\textcolor{yellow}{\n",
    "\\frac{\\partial J(w_1, w_2, \\dots, w_n, b)}{\\partial b} = \\frac{1}{m} \\sum_{i=1}^{m} (\\hat{y}_i - y_i)}\n",
    "$$\n",
    "\n",
    "</div>\n"
   ]
  },
  {
   "cell_type": "code",
   "execution_count": 9,
   "id": "9e821b46",
   "metadata": {},
   "outputs": [
    {
     "name": "stdout",
     "output_type": "stream",
     "text": [
      "Epoch 0: Loss = 0.6931471805599454\n",
      "Epoch 100: Loss = 0.49407384714727853\n",
      "Epoch 200: Loss = 0.4824021549924357\n",
      "Epoch 300: Loss = 0.4761486685176999\n",
      "Epoch 400: Loss = 0.47274672846080396\n",
      "Epoch 500: Loss = 0.47086785656826474\n",
      "Epoch 600: Loss = 0.46981648583874214\n",
      "Epoch 700: Loss = 0.4692218301899935\n",
      "Epoch 800: Loss = 0.46888261745142157\n",
      "Epoch 900: Loss = 0.4686878242514989\n",
      "Epoch 1000: Loss = 0.46857538351746153\n",
      "Epoch 1100: Loss = 0.4685102190201007\n",
      "Epoch 1200: Loss = 0.46847233663726073\n",
      "Epoch 1300: Loss = 0.4684502620119204\n",
      "Epoch 1400: Loss = 0.46843737534572444\n",
      "Epoch 1500: Loss = 0.4684298418732164\n",
      "Epoch 1600: Loss = 0.46842543311896523\n",
      "Epoch 1700: Loss = 0.4684228508941061\n",
      "Epoch 1800: Loss = 0.46842133751978454\n",
      "Epoch 1900: Loss = 0.4684204501413918\n",
      "Epoch 2000: Loss = 0.4684199296273228\n",
      "Epoch 2100: Loss = 0.4684196242198823\n",
      "Epoch 2200: Loss = 0.4684194449854553\n",
      "Epoch 2300: Loss = 0.46841933978059197\n",
      "Epoch 2400: Loss = 0.4684192780208008\n",
      "Epoch 2500: Loss = 0.46841924176158156\n",
      "Epoch 2600: Loss = 0.4684192204721656\n",
      "Epoch 2700: Loss = 0.46841920797147296\n",
      "Epoch 2800: Loss = 0.4684192006310073\n",
      "Epoch 2900: Loss = 0.46841919632050555\n",
      "Epoch 3000: Loss = 0.4684191937892071\n",
      "Epoch 3100: Loss = 0.4684191923026984\n",
      "Epoch 3200: Loss = 0.4684191914297306\n",
      "Epoch 3300: Loss = 0.4684191909170652\n",
      "Epoch 3400: Loss = 0.46841919061599085\n",
      "Epoch 3500: Loss = 0.468419190439177\n",
      "Epoch 3600: Loss = 0.46841919033533774\n",
      "Epoch 3700: Loss = 0.4684191902743547\n",
      "Epoch 3800: Loss = 0.4684191902385405\n",
      "Epoch 3900: Loss = 0.4684191902175073\n",
      "Epoch 4000: Loss = 0.4684191902051549\n",
      "Epoch 4100: Loss = 0.4684191901979003\n",
      "Epoch 4200: Loss = 0.4684191901936398\n",
      "Epoch 4300: Loss = 0.46841919019113787\n",
      "Epoch 4400: Loss = 0.4684191901896683\n",
      "Epoch 4500: Loss = 0.46841919018880535\n",
      "Epoch 4600: Loss = 0.4684191901882986\n",
      "Epoch 4700: Loss = 0.46841919018800093\n",
      "Epoch 4800: Loss = 0.46841919018782613\n",
      "Epoch 4900: Loss = 0.4684191901877234\n",
      "Epoch 5000: Loss = 0.4684191901876631\n",
      "Epoch 5100: Loss = 0.46841919018762757\n",
      "Epoch 5200: Loss = 0.46841919018760686\n",
      "Epoch 5300: Loss = 0.4684191901875946\n",
      "Epoch 5400: Loss = 0.4684191901875875\n",
      "Epoch 5500: Loss = 0.4684191901875833\n",
      "Epoch 5600: Loss = 0.4684191901875807\n",
      "Epoch 5700: Loss = 0.4684191901875794\n",
      "Epoch 5800: Loss = 0.4684191901875785\n",
      "Epoch 5900: Loss = 0.4684191901875779\n",
      "Epoch 6000: Loss = 0.4684191901875776\n",
      "Epoch 6100: Loss = 0.46841919018757744\n",
      "Epoch 6200: Loss = 0.46841919018757755\n",
      "Epoch 6300: Loss = 0.4684191901875773\n",
      "Epoch 6400: Loss = 0.4684191901875773\n",
      "Epoch 6500: Loss = 0.4684191901875774\n",
      "Epoch 6600: Loss = 0.4684191901875774\n",
      "Epoch 6700: Loss = 0.4684191901875773\n",
      "Epoch 6800: Loss = 0.4684191901875773\n",
      "Epoch 6900: Loss = 0.4684191901875773\n",
      "Epoch 7000: Loss = 0.4684191901875774\n",
      "Epoch 7100: Loss = 0.46841919018757716\n",
      "Epoch 7200: Loss = 0.4684191901875773\n",
      "Epoch 7300: Loss = 0.4684191901875773\n",
      "Epoch 7400: Loss = 0.4684191901875773\n",
      "Epoch 7500: Loss = 0.4684191901875773\n",
      "Epoch 7600: Loss = 0.46841919018757716\n",
      "Epoch 7700: Loss = 0.4684191901875773\n",
      "Epoch 7800: Loss = 0.46841919018757716\n",
      "Epoch 7900: Loss = 0.46841919018757716\n",
      "Epoch 8000: Loss = 0.4684191901875773\n",
      "Epoch 8100: Loss = 0.4684191901875773\n",
      "Epoch 8200: Loss = 0.4684191901875773\n",
      "Epoch 8300: Loss = 0.4684191901875773\n",
      "Epoch 8400: Loss = 0.4684191901875773\n",
      "Epoch 8500: Loss = 0.4684191901875773\n",
      "Epoch 8600: Loss = 0.4684191901875773\n",
      "Epoch 8700: Loss = 0.46841919018757716\n",
      "Epoch 8800: Loss = 0.4684191901875773\n",
      "Epoch 8900: Loss = 0.46841919018757716\n",
      "Epoch 9000: Loss = 0.4684191901875773\n",
      "Epoch 9100: Loss = 0.4684191901875774\n",
      "Epoch 9200: Loss = 0.4684191901875773\n",
      "Epoch 9300: Loss = 0.4684191901875773\n",
      "Epoch 9400: Loss = 0.4684191901875773\n",
      "Epoch 9500: Loss = 0.46841919018757716\n",
      "Epoch 9600: Loss = 0.4684191901875774\n",
      "Epoch 9700: Loss = 0.4684191901875774\n",
      "Epoch 9800: Loss = 0.46841919018757716\n",
      "Epoch 9900: Loss = 0.4684191901875771\n",
      "Weights: [0.03817942 2.45847548]\n",
      "Bias: -5.4370558454022975\n"
     ]
    }
   ],
   "source": [
    "# นิยามอัลกอริทึม gradient descent\n",
    "def gradient_descent(X, y, weights, bias, learning_rate, epochs):\n",
    "    m = len(y)\n",
    "    for epoch in range(epochs):\n",
    "        # ทำนายค่า\n",
    "        y_pred = predict(X, weights, bias)\n",
    "        \n",
    "        # คำนวณเกรเดียนต์\n",
    "        dw = 1/m * np.dot(X.T, (y_pred - y))\n",
    "        db = 1/m * np.sum(y_pred - y)\n",
    "        \n",
    "        # ปรับปรุงพารามิเตอร์\n",
    "        weights -= learning_rate * dw\n",
    "        bias -= learning_rate * db\n",
    "        \n",
    "        # ถ้าต้องการ สามารถพิมพ์ค่าเสียหายทุกๆ 100 รอบได้\n",
    "        if epoch % 100 == 0:\n",
    "            loss = compute_loss(y, y_pred)\n",
    "            print(f\"Epoch {epoch}: Loss = {loss}\")\n",
    "    \n",
    "    return weights, bias\n",
    "\n",
    "# เริ่มต้นพารามิเตอร์\n",
    "weights = np.zeros(X_train.shape[1])\n",
    "bias = 0\n",
    "learning_rate = 1.0\n",
    "epochs = 10000\n",
    "\n",
    "# ฝึกโมเดล\n",
    "weights, bias = gradient_descent(X_train, y_train, weights, bias, learning_rate, epochs)\n",
    "\n",
    "# พิมพ์น้ำหนักและไบแอสสุดท้าย\n",
    "print(f\"Weights: {weights}\")\n",
    "print(f\"Bias: {bias}\")"
   ]
  },
  {
   "cell_type": "code",
   "execution_count": 13,
   "id": "6598375b",
   "metadata": {},
   "outputs": [
    {
     "name": "stdout",
     "output_type": "stream",
     "text": [
      "Predictions: [0.10474412 0.81929532 0.05415522 0.92459098 0.38721885 0.16474331\n",
      " 0.63880648 0.68025592 0.34267093 0.88351886]\n",
      "Predictions with decision boundary: [0 1 0 1 0 0 0 1 0 1]\n"
     ]
    },
    {
     "data": {
      "image/png": "[encoded data removed]",
      "text/plain": [
       "<Figure size 640x480 with 1 Axes>"
      ]
     },
     "metadata": {},
     "output_type": "display_data"
    }
   ],
   "source": [
    "# ทำนายค่าบนข้อมูลการฝึก\n",
    "y_pred = predict(X_train, weights, bias)\n",
    "decision_boundary = 0.65\n",
    "y_pred_class = np.where(y_pred >= decision_boundary, 1, 0)\n",
    "print(f\"Predictions: {y_pred}\")\n",
    "print(f\"Predictions with decision boundary: {y_pred_class}\")\n",
    "\n",
    "# กำหนดสีสำหรับการทำนายถูกและผิด\n",
    "colors = ['green' if y_pred_class[i] == y_train[i] else 'red' for i in range(len(y_pred))]\n",
    "\n",
    "# สร้างกราฟเปรียบเทียบค่า Predicted Probability และ Train Labels\n",
    "plt.scatter(range(len(y_pred)), y_pred, label='Predicted Probability', color=colors, marker='o')\n",
    "plt.scatter(range(len(y_train)), y_train, label='Train Labels', color='blue', marker='x')\n",
    "\n",
    "# แสดงเส้นขอบเขตการตัดสินใจที่ค่าใหม่ (0.66)\n",
    "plt.axhline(y=decision_boundary, color='r', linestyle='--', label=f'Decision Boundary ({decision_boundary})')\n",
    "\n",
    "# ตั้งชื่อและแสดงกราฟ\n",
    "plt.title('Predicted Probabilities vs Train Labels with Classification Result')\n",
    "plt.xlabel('Sample Index')\n",
    "plt.ylabel('Value')\n",
    "\n",
    "# แสดงคำอธิบาย\n",
    "plt.legend(loc= 'lower right')\n",
    "\n",
    "# แสดงกราฟ\n",
    "plt.show()"
   ]
  },
  {
   "cell_type": "markdown",
   "id": "e39a027f",
   "metadata": {},
   "source": [
    "<h1 style=\"font-size: 18px;\">2.4 การทำนายข้อมูลชุดใหม่ (Unseen Data)</h1>"
   ]
  },
  {
   "cell_type": "code",
   "execution_count": 14,
   "id": "48ae42e2",
   "metadata": {},
   "outputs": [
    {
     "name": "stdout",
     "output_type": "stream",
     "text": [
      "Predicted classes: [0.88351886]\n",
      "Predicted classes by decision boundary: [1]\n"
     ]
    }
   ],
   "source": [
    "# สร้างชุดข้อมูลใหม่ที่ไม่เคยมีมาก่อน\n",
    "X_test = np.array([[2.3, 3.0]])\n",
    "\n",
    "# ทำนายค่าด้วยพารามิเตอร์สมมติ\n",
    "y_pred = predict(X_test, weights, bias)\n",
    "\n",
    "print(f\"Predicted classes: {y_pred}\")\n",
    "\n",
    "# สร้างขอบเขตการตัดสินใจ (Decision Boundary)\n",
    "y_pred_class = np.where(y_pred >= 0.5, 1, 0)\n",
    "\n",
    "print(f\"Predicted classes by decision boundary: {y_pred_class}\")"
   ]
  },
  {
   "cell_type": "markdown",
   "id": "15da1ebb",
   "metadata": {},
   "source": [
    "# Interactive Output สำหรับ Logistic Regression"
   ]
  },
  {
   "cell_type": "code",
   "execution_count": 15,
   "id": "f0555640",
   "metadata": {},
   "outputs": [
    {
     "data": {
      "application/vnd.jupyter.widget-view+json": {
       "model_id": "c31ab7d5b2574a77ae328f4ed7885033",
       "version_major": 2,
       "version_minor": 0
      },
      "text/plain": [
       "interactive(children=(FloatSlider(value=1.0, description='w', max=10.0, min=-10.0), FloatSlider(value=0.0, des…"
      ]
     },
     "metadata": {},
     "output_type": "display_data"
    }
   ],
   "source": [
    "from ipywidgets import interact\n",
    "\n",
    "plt.style.use('ggplot')\n",
    "\n",
    "X = np.linspace(0, 10, 100)\n",
    "y_true = (3 * X + 5 + np.random.randn(100) * 2) > 20\n",
    "\n",
    "def sigmoid(z):\n",
    "    return 1 / (1 + np.exp(-z))\n",
    "\n",
    "def plot_logistic_regression_and_bce(w=1.0, b=0.0):\n",
    "    z = w * X + b\n",
    "    y_pred = sigmoid(z)\n",
    "    \n",
    "    bce = -np.mean(y_true * np.log(y_pred) + (1 - y_true) * np.log(1 - y_pred))\n",
    "    \n",
    "    plt.figure(figsize=(14, 6))\n",
    "\n",
    "    plt.subplot(1, 2, 1)\n",
    "    plt.scatter(X, y_true, label='True Data', color='dodgerblue', alpha=0.7)\n",
    "    plt.plot(X, y_pred, color='crimson', linewidth=2.5, label=f'Prediction: sigmoid({w:.2f}x + {b:.2f})')\n",
    "    plt.xlabel('X')\n",
    "    plt.ylabel('Probability')\n",
    "    plt.title('Interactive Logistic Regression', fontsize=16)\n",
    "    plt.legend(loc='best')\n",
    "    plt.grid(True, linestyle='--', alpha=0.6)\n",
    "\n",
    "    plt.subplot(1, 2, 2)\n",
    "    errors = - (y_true * np.log(y_pred) + (1 - y_true) * np.log(1 - y_pred))\n",
    "    plt.plot(X, errors, 'o', label='Binary Cross-Entropy Error', color='purple', alpha=0.7)\n",
    "    plt.axhline(y=bce, color='green', linestyle='--', linewidth=2, label=f'BCE = {bce:.2f}')\n",
    "    plt.xlabel('X')\n",
    "    plt.ylabel('BCE Error')\n",
    "    plt.title('BCE Cost Function', fontsize=16)\n",
    "    plt.legend(loc='best')\n",
    "    plt.grid(True, linestyle='--', alpha=0.6)\n",
    "\n",
    "    plt.tight_layout()\n",
    "    plt.show()\n",
    "\n",
    "interact(plot_logistic_regression_and_bce, w=(-10.0, 10.0, 0.1), b=(-10.0, 30.0, 0.1));"
   ]
  }
 ],
 "metadata": {
  "kernelspec": {
   "display_name": "Python 3",
   "language": "python",
   "name": "python3"
  },
  "language_info": {
   "codemirror_mode": {
    "name": "ipython",
    "version": 3
   },
   "file_extension": ".py",
   "mimetype": "text/x-python",
   "name": "python",
   "nbconvert_exporter": "python",
   "pygments_lexer": "ipython3",
   "version": "3.12.4"
  }
 },
 "nbformat": 4,
 "nbformat_minor": 5
}
