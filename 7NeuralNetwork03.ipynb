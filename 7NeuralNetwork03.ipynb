{
 "cells": [
  {
   "cell_type": "markdown",
   "metadata": {},
   "source": [
    "<div style=\"background-color: #4CAF50; color: white; padding: 10px; border-radius: 5px; display: flex; align-items: center;\">\n",
    "    <h1 style=\"margin: 0 auto; font-size: 30px; font-weight: bold; font-family: Helvetica\">การวิเคราะห์ข้อมูลด้วยโครงข่ายประสาทเทียม (Neural Network)</h1>\n",
    "</div>"
   ]
  },
  {
   "cell_type": "markdown",
   "metadata": {},
   "source": [
    "<h1 style=\"font-size: 25px; font-weight: bold; font-family: Helvetica\">เครื่องมือที่จะใช้ใน Lab นี้:</h1>"
   ]
  },
  {
   "cell_type": "code",
   "execution_count": 1,
   "metadata": {},
   "outputs": [],
   "source": [
    "# นำเข้าไลบรารี numpy โดยตั้งชื่อว่า np\n",
    "import numpy as np\n",
    "# นำเข้าไลบรารี matplotlib โดยตั้งชื่อว่า plt\n",
    "import matplotlib.pyplot as plt\n",
    "# นำเข้าไลบรารี pandas โดยตั้งชื่อว่า pd\n",
    "import pandas as pd\n",
    "# นำเข้าไลบรารี seaborn โดยตั้งชื่อว่า sns\n",
    "import seaborn as sns"
   ]
  },
  {
   "cell_type": "markdown",
   "metadata": {},
   "source": [
    "<h1 style=\"font-size: 25px; font-weight: bold; font-family: Helvetica\">1. สำรวจและวิเคราะห์ข้อมูลเบื้องต้น (Exploratory Data Analysis: EDA)</h1>"
   ]
  },
  {
   "cell_type": "markdown",
   "metadata": {},
   "source": [
    "<h1 style=\"font-size: 18px;\">1.1 นำข้อมูลเข้า</h1>"
   ]
  },
  {
   "cell_type": "code",
   "execution_count": null,
   "metadata": {},
   "outputs": [],
   "source": [
    "data = pd.read_csv('drug200_5classes.csv') # อ่านไฟล์ csv ชื่อ 'drug200_5classes.csv' เราจะได้ตารางของข้อมูล (dataframe) เก็บไว้ในตัวแปรชื่อ data\n",
    "data.head() # แสดงผล dataframe 5 แถวแรก"
   ]
  },
  {
   "cell_type": "markdown",
   "metadata": {},
   "source": [
    "<h1 style=\"font-size: 18px;\">1.2 สำรวจข้อมูล</h1>"
   ]
  },
  {
   "cell_type": "code",
   "execution_count": null,
   "metadata": {},
   "outputs": [],
   "source": [
    "data.info() # แสดงรายละเอียดของแต่ละคอลัมน์ใน data"
   ]
  },
  {
   "cell_type": "code",
   "execution_count": null,
   "metadata": {},
   "outputs": [],
   "source": [
    "data.describe() # แสดงสถิติเบื้องต้นของแต่ละคอลัมน์ใน dataframe"
   ]
  },
  {
   "cell_type": "code",
   "execution_count": null,
   "metadata": {},
   "outputs": [],
   "source": [
    "# ตรวจสอบข้อมูลที่หายไป\n",
    "data.isnull().sum()"
   ]
  },
  {
   "cell_type": "markdown",
   "metadata": {},
   "source": [
    "<h1 style=\"font-size: 18px;\">1.3 เปลี่ยน label จาก Nominal categorical เป็น Ordinal categorical</h1>"
   ]
  },
  {
   "cell_type": "code",
   "execution_count": null,
   "metadata": {},
   "outputs": [],
   "source": [
    "# นำเข้าไลบรารี sklearn.preprocessing เพื่อเรียกใช้ LabelEncoder\n",
    "from sklearn.preprocessing import LabelEncoder\n",
    "# สำหรับ y ที่เป็น categorical (เช่น string labels)\n",
    "label_encoder = LabelEncoder()\n",
    "# แปลงข้อมูลในคอลัมน์ ที่เป็น String ให้เป็นตัวเลขคลาส\n",
    "data['Sex'] = label_encoder.fit_transform(data['Sex'])\n",
    "data['BP'] = label_encoder.fit_transform(data['BP'])\n",
    "data['Cholesterol'] = label_encoder.fit_transform(data['Cholesterol'])\n",
    "data['Drug'] = label_encoder.fit_transform(data['Drug'])\n",
    "data"
   ]
  },
  {
   "cell_type": "markdown",
   "metadata": {},
   "source": [
    "<h1 style=\"font-size: 18px;\">1.4 ดูความสัมพันธ์ของข้อมูล</h1>"
   ]
  },
  {
   "cell_type": "code",
   "execution_count": null,
   "metadata": {},
   "outputs": [],
   "source": [
    "# สร้างกราฟ corelation ของแต่ละคอลัมน์ใน dataframe\n",
    "corr_matrix = data.corr()  # เรียกดู correlation ของแต่ละคอลัมน์ใน dataframe\n",
    "plt.figure(figsize=(10, 8)) # กำหนดขนาดของกราฟ\n",
    "sns.heatmap(corr_matrix, annot=True, cmap='coolwarm', fmt=\".2f\", linewidths=2) # สร้างกราฟ correlation matrix \n",
    "plt.title('Correlation Heatmap') # ตั้งชื่อกราฟ\n",
    "plt.show() # แสดงผล"
   ]
  },
  {
   "cell_type": "code",
   "execution_count": null,
   "metadata": {},
   "outputs": [],
   "source": [
    "data.corr().Drug.sort_values(ascending=False) # แสดงผลคอลัมน์ที่มี correlation กับ 'Class' จากมากไปน้อย"
   ]
  },
  {
   "cell_type": "markdown",
   "metadata": {},
   "source": [
    "<h1 style=\"font-size: 18px;\">1.6 ดูการกระจายตัวของข้อมูล</h1>"
   ]
  },
  {
   "cell_type": "code",
   "execution_count": null,
   "metadata": {},
   "outputs": [],
   "source": [
    "# แสดงจำนวนของแต่ละคลาสในคอลัมน์ 'Drug'\n",
    "class_counts = data['Drug'].value_counts()\n",
    "print(class_counts)\n",
    "\n",
    "# แสดงการกระจายตัวของคลาสในคอลัมน์ 'Drug'\n",
    "plt.figure(figsize=(6, 4))\n",
    "sns.countplot(data=data, x='Drug')\n",
    "plt.title('Distribution of Drug')\n",
    "plt.xlabel('Drug')\n",
    "plt.ylabel('Count')\n",
    "plt.show()"
   ]
  },
  {
   "cell_type": "markdown",
   "metadata": {},
   "source": [
    "<h1 style=\"font-size: 25px; font-weight: bold; font-family: Helvetica\">2. ปรับปรุงข้อมูล (Data Preprocessing)</h1>"
   ]
  },
  {
   "cell_type": "code",
   "execution_count": 10,
   "metadata": {},
   "outputs": [],
   "source": [
    "# นำเข้าไลบรารี sklearn.preprocessing เพื่อเรียกใช้ StandardScaler\n",
    "from sklearn.preprocessing import StandardScaler\n",
    "\n",
    "# นำฟังก์ชัน StandardScaler() เก็บไว้ในตัวแปร pre_process\n",
    "scaler = StandardScaler()"
   ]
  },
  {
   "cell_type": "markdown",
   "metadata": {},
   "source": [
    "<h1 style=\"font-size: 18px;\">2.1 ทำการ Standardize ข้อมูลส่วน Features ที่ต้องการ</h1>"
   ]
  },
  {
   "cell_type": "code",
   "execution_count": null,
   "metadata": {},
   "outputs": [],
   "source": [
    "data['Age'] = scaler.fit_transform(data[['Age']])\n",
    "data['Na_to_K'] = scaler.fit_transform(data[['Na_to_K']])\n",
    "data"
   ]
  },
  {
   "cell_type": "markdown",
   "metadata": {},
   "source": [
    "<h1 style=\"font-size: 18px;\">2.2 แบ่งข้อมูลเป็นส่วน Features และ Label</h1>"
   ]
  },
  {
   "cell_type": "code",
   "execution_count": 12,
   "metadata": {},
   "outputs": [],
   "source": [
    "# X เป็น Features\n",
    "X = data.drop('Drug', axis=1)\n",
    "# y เป็น Label\n",
    "y = data['Drug']\n",
    "# แปลง X ให้เป็น Array\n",
    "X = np.array(X)\n",
    "# แปลง y ให้เป็น Array\n",
    "y = np.array(y)"
   ]
  },
  {
   "cell_type": "code",
   "execution_count": null,
   "metadata": {},
   "outputs": [],
   "source": [
    "print(type(X)) ; print(type(y)) # แสดง type ของ X และ y"
   ]
  },
  {
   "cell_type": "markdown",
   "metadata": {},
   "source": [
    "<h1 style=\"font-size: 25px; font-weight: bold; font-family: Helvetica\">3. แบ่งส่วนข้อมูล (Train-Test Split)</h1>"
   ]
  },
  {
   "cell_type": "code",
   "execution_count": 14,
   "metadata": {},
   "outputs": [],
   "source": [
    "# นำเข้าไลบรารี sklearn.model_selection เพื่อเรียกใช้ train_test_split\n",
    "from sklearn.model_selection import train_test_split"
   ]
  },
  {
   "cell_type": "code",
   "execution_count": 15,
   "metadata": {},
   "outputs": [],
   "source": [
    "# แบ่งส่วนข้อมูล X เป็น X_train, X_test และ y เป็น y_train, y_test โดยมีอัตราส่วนแบ่งเป็น 0.8:0.2\n",
    "X_train, X_test, y_train, y_test = train_test_split(X, y, train_size=0.8, random_state=42, stratify=y)"
   ]
  },
  {
   "cell_type": "code",
   "execution_count": null,
   "metadata": {},
   "outputs": [],
   "source": [
    "print('length of X_train:',len(X_train),', length of X_test:', len(X_test)) # แสดงจำนวนข้อมูลใน X_train และ X_test"
   ]
  },
  {
   "cell_type": "code",
   "execution_count": null,
   "metadata": {},
   "outputs": [],
   "source": [
    "# หรืออีกวิธีหนึ่ง เราสามารถดู shape ของข้อมูลที่เราแบ่งได้ โดยใช้คำสั่ง .shape \n",
    "print('shape of X_train:', X_train.shape)   # ดู shape ของ X_train\n",
    "print('shape of X_test:', X_test.shape)     # ดู shape ของ X_test\n",
    "print('shape of y_train:', y_train.shape)   # ดู shape ของ y_train\n",
    "print('shape of y_test:', y_test.shape)     # ดู shape ของ y_test"
   ]
  },
  {
   "cell_type": "markdown",
   "metadata": {},
   "source": [
    "<h1 style=\"font-size: 25px; font-weight: bold; font-family: Helvetica\">4. การใช้ Neural Networks Model ด้วย Scikit-Learn Library</h1>"
   ]
  },
  {
   "cell_type": "code",
   "execution_count": 18,
   "metadata": {},
   "outputs": [],
   "source": [
    " # นำเข้าไลบรารี sklearn.neural_network เพื่อเรียกใช้ MLPClassifier\n",
    "from sklearn.neural_network import MLPClassifier"
   ]
  },
  {
   "cell_type": "markdown",
   "metadata": {},
   "source": [
    "<h1 style=\"font-size: 18px;\">4.1 สร้างโมเดล และ กำหนดการ compile ของโมเดล</h1>"
   ]
  },
  {
   "cell_type": "code",
   "execution_count": 19,
   "metadata": {},
   "outputs": [],
   "source": [
    "# สร้างโมเดล\n",
    "mlp = MLPClassifier(\n",
    "    hidden_layer_sizes=(64, 32, 16), # กำหนด Input layer, Hidden Layers\n",
    "    activation='relu',               # Activation function ที่จะใช้\n",
    "    solver='adam',                   # Optimizer ที่จะใช้\n",
    "    learning_rate_init=0.001,        # กำหนด learning rate\n",
    "    alpha=0.0001,                    # คือพารามิเตอร์ L2 penalty (regularization term)\n",
    "    batch_size=32,                   # สำหรับ SGD Algorithm\n",
    "    max_iter=50,                     # จำนวนรอบการเทรน\n",
    "    verbose=True,                    # แสดงผลระหว่างเทรน\n",
    "    random_state=42                  # ควบคุมการทำผลซ้ำ\n",
    ")"
   ]
  },
  {
   "cell_type": "markdown",
   "metadata": {},
   "source": [
    "<h1 style=\"font-size: 18px;\">4.2 เทรนโมเดล</h1>"
   ]
  },
  {
   "cell_type": "code",
   "execution_count": null,
   "metadata": {},
   "outputs": [],
   "source": [
    "# Train the model\n",
    "mlp.fit(X_train, y_train)"
   ]
  },
  {
   "cell_type": "markdown",
   "metadata": {},
   "source": [
    "<h1 style=\"font-size: 18px;\">4.3 ใช้โมเดลที่เทรนแล้ว ทำนายข้อมูล unseen data อย่าง X_test</h1>"
   ]
  },
  {
   "cell_type": "code",
   "execution_count": 21,
   "metadata": {},
   "outputs": [],
   "source": [
    "y_pred_mlp = mlp.predict(X_test)\n",
    "y_proba = mlp.predict_proba(X_test)"
   ]
  },
  {
   "cell_type": "code",
   "execution_count": null,
   "metadata": {},
   "outputs": [],
   "source": [
    "y_pred_mlp"
   ]
  },
  {
   "cell_type": "code",
   "execution_count": null,
   "metadata": {},
   "outputs": [],
   "source": [
    "y_proba"
   ]
  },
  {
   "cell_type": "code",
   "execution_count": null,
   "metadata": {},
   "outputs": [],
   "source": [
    "y_proba.round(2)"
   ]
  },
  {
   "cell_type": "code",
   "execution_count": null,
   "metadata": {},
   "outputs": [],
   "source": [
    "y_proba = np.argmax(y_proba, axis=1)\n",
    "y_proba"
   ]
  },
  {
   "cell_type": "markdown",
   "metadata": {},
   "source": [
    "<h1 style=\"font-size: 25px; font-weight: bold; font-family: Helvetica\">5. การใช้ Neural Networks Model ด้วย Tensorflow-Keras</h1>"
   ]
  },
  {
   "cell_type": "code",
   "execution_count": 26,
   "metadata": {},
   "outputs": [],
   "source": [
    "from tensorflow.keras.models import Sequential      # นำเข้าไลบรารี tensorflow.keras.models เพื่อเรียกใช้ Sequential\n",
    "from tensorflow.keras.layers import Dense, Dropout  # นำเข้าไลบรารี tensorflow.keras.layers เพื่อเรียกใช้ Dense, Dropout\n",
    "from tensorflow.keras.optimizers import Adam        # นำเข้าไลบรารี from tensorflow.keras.optimizers เพื่อเรียกใช้ Adam"
   ]
  },
  {
   "cell_type": "markdown",
   "metadata": {},
   "source": [
    "<h1 style=\"font-size: 18px;\">5.1 สร้างโมเดล</h1>"
   ]
  },
  {
   "cell_type": "code",
   "execution_count": 27,
   "metadata": {},
   "outputs": [],
   "source": [
    "# สร้างโมเดล\n",
    "model = Sequential()\n",
    "\n",
    "# เพิ่ม Hidden layer แรก หลังจาก Input layer\n",
    "model.add(Dense(64, activation='relu', input_shape=(X_train.shape[1],)))\n",
    " \n",
    "# เพิ่ม Hidden layers อื่นๆ\n",
    "model.add(Dropout(0.5))\n",
    "model.add(Dense(32, activation='relu'))\n",
    "model.add(Dropout(0.5))\n",
    "model.add(Dense(16, activation='relu'))\n",
    "\n",
    "# เพิ่ม layer สุดท้าย เรียกว่า output layer\n",
    "model.add(Dense(5, activation='softmax'))"
   ]
  },
  {
   "cell_type": "markdown",
   "metadata": {},
   "source": [
    "<h1 style=\"font-size: 18px;\">5.2 กำหนดการ compile ของโมเดล และเทรนโมเดล</h1>"
   ]
  },
  {
   "cell_type": "code",
   "execution_count": 28,
   "metadata": {},
   "outputs": [],
   "source": [
    "# กำหนดการ compile ของโมเดล\n",
    "model.compile(optimizer=Adam(learning_rate=0.01), loss='sparse_categorical_crossentropy', metrics=['accuracy'])"
   ]
  },
  {
   "cell_type": "code",
   "execution_count": null,
   "metadata": {},
   "outputs": [],
   "source": [
    "# ดูภาพรวมของโครงสร้างโมเดล\n",
    "model.summary()"
   ]
  },
  {
   "cell_type": "code",
   "execution_count": null,
   "metadata": {},
   "outputs": [],
   "source": [
    "# เทรนโมเดล\n",
    "history = model.fit(X_train, y_train, epochs=50, batch_size=32, validation_split=0.2, verbose=1)"
   ]
  },
  {
   "cell_type": "code",
   "execution_count": null,
   "metadata": {},
   "outputs": [],
   "source": [
    "plt.figure(figsize=(12, 4))\n",
    "\n",
    "# แสดงกราฟประวัติค่า accuracy ที่เกิดขึ้นระหว่างการเทรนโมเดล\n",
    "plt.subplot(1, 2, 1)\n",
    "plt.plot(history.history['accuracy'])\n",
    "plt.plot(history.history['val_accuracy'])\n",
    "plt.title('Model accuracy')\n",
    "plt.ylabel('Accuracy')\n",
    "plt.xlabel('Epoch')\n",
    "plt.legend(['Train', 'Validation'], loc='upper left')\n",
    "\n",
    "# แสดงกราฟประวัติค่า loss ที่เกิดขึ้นระหว่างการเทรนโมเดล\n",
    "plt.subplot(1, 2, 2)\n",
    "plt.plot(history.history['loss'])\n",
    "plt.plot(history.history['val_loss'])\n",
    "plt.title('Model loss')\n",
    "plt.ylabel('Loss')\n",
    "plt.xlabel('Epoch')\n",
    "plt.legend(['Train', 'Validation'], loc='upper left')\n",
    "\n",
    "plt.tight_layout()\n",
    "plt.show()"
   ]
  },
  {
   "cell_type": "markdown",
   "metadata": {},
   "source": [
    "<h1 style=\"font-size: 18px;\">5.3 ใช้โมเดลที่เทรนแล้ว ทำนายข้อมูล unseen data อย่าง X_test</h1>"
   ]
  },
  {
   "cell_type": "code",
   "execution_count": null,
   "metadata": {},
   "outputs": [],
   "source": [
    "y_pred = model.predict(X_test) # ให้โมเดลทำนาย Class จาก Features ที่กำหนดให้\n",
    "print(y_pred)"
   ]
  },
  {
   "cell_type": "code",
   "execution_count": null,
   "metadata": {},
   "outputs": [],
   "source": [
    "y_pred = np.argmax(y_pred, axis=1) # ตั้ง Boundary ในการตัดสินใจว่าเป็นคลาสใด\n",
    "y_pred"
   ]
  },
  {
   "cell_type": "code",
   "execution_count": null,
   "metadata": {},
   "outputs": [],
   "source": [
    "print('y_pred:', y_pred)\n",
    "print('y_test:', y_test)"
   ]
  },
  {
   "cell_type": "markdown",
   "metadata": {},
   "source": [
    "<h1 style=\"font-size: 25px; font-weight: bold; font-family: Helvetica\">6. การวัดผลโมเดล (Model Evaluation)</h1>"
   ]
  },
  {
   "cell_type": "markdown",
   "metadata": {},
   "source": [
    "ในการวัดผลการทำ Binary-Classification Model เราต้องรู้จัก Confusion Matrix ก่อน"
   ]
  },
  {
   "cell_type": "code",
   "execution_count": 35,
   "metadata": {},
   "outputs": [],
   "source": [
    "from sklearn.metrics import confusion_matrix  # นำเข้าไลบรารี sklearn.metrics เพื่อเรียกใช้ confusion_matrix"
   ]
  },
  {
   "cell_type": "code",
   "execution_count": null,
   "metadata": {},
   "outputs": [],
   "source": [
    "# ตัวอย่างการสร้าง confusion matrix\n",
    "conf_matrix_sample = confusion_matrix(y_test, y_pred)\n",
    "\n",
    "# แสดง confusion matrix โดยใช้ไลบรารี seaborn\n",
    "plt.figure(figsize=(8,6))\n",
    "sns.heatmap(conf_matrix_sample, annot=True, fmt=\"d\", cmap=\"Blues\",\n",
    "            xticklabels=[\"Class 0\", \"Class 1\", \"Class 2\", \"Class 3\", \"Class 4\"],\n",
    "            yticklabels=[\"Class 0\", \"Class 1\", \"Class 2\", \"Class 3\", \"Class 4\"])\n",
    "\n",
    "plt.title(\"Confusion Matrix\")\n",
    "plt.ylabel(\"Actual\")\n",
    "plt.xlabel(\"Predicted\")\n",
    "plt.show()"
   ]
  },
  {
   "cell_type": "markdown",
   "metadata": {},
   "source": [
    "<h1 style=\"font-size: 18px; font-weight: bold;\">6.1 Accuracy - ค่าความแม่นยำ</h1>\n",
    "\n",
    "- ความแม่นยำ เป็นตัววัดประสิทธิภาพที่เข้าใจได้ง่ายที่สุด มันคืออัตราส่วนของการทำนายที่ถูกต้องต่อการทำนายทั้งหมด\n",
    "- สูตร:\n",
    "$$\\text{Accuracy} = \\frac{\\text{จำนวนการทำนายที่ถูกต้อง}}{\\text{จำนวนการทำนายทั้งหมด}}$$\n",
    "- หรือ:\n",
    "$$\\text{Accuracy} = \\frac{TP + TN}{TP + TN + FP + FN}$$\n",
    "\n",
    "<h1 style=\"font-size: 18px; font-weight: bold;\">6.2 Precision - ความแม่นยำของการทำนายคลาสบวก</h1>\n",
    "\n",
    "- Precision คืออัตราส่วนของการทำนายคลาสบวกที่ถูกต้องต่อการทำนายคลาสบวกทั้งหมด:\n",
    "- สูตร:\n",
    "$$\\text{Precision} = \\frac{\\text{TP}}{\\text{TP + FP}}$$\n",
    "\n",
    "<h1 style=\"font-size: 18px; font-weight: bold;\">6.3 Recall / Sensitivity - ความครอบคลุม</h1>\n",
    "\n",
    "- คืออัตราส่วนของการทำนายคลาสบวกที่ถูกต้องต่อคลาสบวกทั้งหมดในข้อมูลจริง:\n",
    "- สูตร:\n",
    "$$\\text{Recall} = \\frac{\\text{TP}}{\\text{TP + FN}}$$\n",
    "\n",
    "<h1 style=\"font-size: 18px; font-weight: bold;\">6.4 F1-Score - คะแนน F1 </h1>\n",
    "\n",
    "- เป็นค่าเฉลี่ยแบบ harmonic ระหว่างความแม่นยำของการทำนายคลาสบวกและความครอบคลุม\n",
    "- เป็นวิธีที่ดีในการแสดงประสิทธิภาพของโมเดลเมื่อข้อมูลบวกและข้อมูลลบมีจำนวนที่ไม่เท่ากัน:\n",
    "- สูตร:\n",
    "$$\\text{คะแนน F1} = 2 \\times \\frac{\\text{Precision} \\times \\text{Recall}}{\\text{Precision} + \\text{Recall}}$$\n",
    "\n",
    "<h1 style=\"font-size: 18px; font-weight: bold;\">6.5 Matthew Correlation Coefficient (MCC) - ค่าสหสัมพันธ์แมทธิว </h1>\n",
    "\n",
    "- คือค่าสหสัมพันธ์ระหว่างการทำนายและข้อมูลจริง ค่านี้จะอยู่ระหว่าง -1 และ 1 ซึ่งค่า 1 หมายถึงการทำนายที่ดีที่สุด ค่า -1 หมายถึงการทำนายที่แย่ที่สุด และค่า 0 หมายถึงการทำนายแบบสุ่ม:\n",
    "- สูตร:\n",
    "$$\\text{MCC} = \\frac{\\text{TP} \\times \\text{TN} - \\text{FP} \\times \\text{FN}}{\\sqrt{(\\text{TP} + \\text{FP})(\\text{TP} + \\text{FN})(\\text{TN} + \\text{FP})(\\text{TN} + \\text{FN})}}$$\n"
   ]
  },
  {
   "cell_type": "code",
   "execution_count": 37,
   "metadata": {},
   "outputs": [],
   "source": [
    "#นำเข้าไลบรารี sklearn.metrics เพื่อเรียกใช้ accuracy_score, precision_score, recall_score, f1_score, matthews_corrcoef\n",
    "from sklearn.metrics import accuracy_score, precision_score, recall_score, f1_score, matthews_corrcoef"
   ]
  },
  {
   "cell_type": "code",
   "execution_count": null,
   "metadata": {},
   "outputs": [],
   "source": [
    "# คำนวณผลของ metrics ต่างๆ\n",
    "accuracy = accuracy_score(y_test, y_pred)\n",
    "precision = precision_score(y_test, y_pred, average=None)\n",
    "recall = recall_score(y_test, y_pred, average=None)\n",
    "f1 = f1_score(y_test, y_pred, average=None)\n",
    "mcc = matthews_corrcoef(y_test, y_pred)\n",
    "\n",
    "# แสดงผล\n",
    "print(f\"ความแม่นยำ (Accuracy): {accuracy:.4f}\")\n",
    "print(f\"ความแม่นยำของการทำนายคลาสบวก (Precision): {precision}\")\n",
    "print(f\"ความครอบคลุม (Recall): {recall}\")\n",
    "print(f\"คะแนน F1 (F1-Score): {f1}\")\n",
    "print(f\"ค่าสหสัมพันธ์แมทธิว (MCC): {mcc:.4f}\")"
   ]
  },
  {
   "cell_type": "markdown",
   "metadata": {},
   "source": [
    "<h1 style=\"font-size: 18px; font-weight: bold;\">6.6 Classification Report</h1>"
   ]
  },
  {
   "cell_type": "code",
   "execution_count": 39,
   "metadata": {},
   "outputs": [],
   "source": [
    "from sklearn.metrics import classification_report # นำเข้าไลบรารี sklearn.metrics เพื่อเรียกใช้ classification_report"
   ]
  },
  {
   "cell_type": "code",
   "execution_count": null,
   "metadata": {},
   "outputs": [],
   "source": [
    "# คำสั่งเรียกดู classification report\n",
    "report = classification_report(y_test, y_pred)\n",
    "# แสดงผล\n",
    "print(report)"
   ]
  }
 ],
 "metadata": {
  "kernelspec": {
   "display_name": "Python 3",
   "language": "python",
   "name": "python3"
  },
  "language_info": {
   "codemirror_mode": {
    "name": "ipython",
    "version": 3
   },
   "file_extension": ".py",
   "mimetype": "text/x-python",
   "name": "python",
   "nbconvert_exporter": "python",
   "pygments_lexer": "ipython3",
   "version": "3.11.4"
  },
  "orig_nbformat": 4
 },
 "nbformat": 4,
 "nbformat_minor": 2
}
